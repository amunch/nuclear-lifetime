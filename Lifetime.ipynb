{
 "cells": [
  {
   "cell_type": "code",
   "execution_count": 10,
   "metadata": {
    "scrolled": false
   },
   "outputs": [
    {
     "name": "stderr",
     "output_type": "stream",
     "text": [
      "/usr/local/lib/python2.7/dist-packages/ipykernel_launcher.py:12: RuntimeWarning: overflow encountered in exp\n",
      "  if sys.path[0] == '':\n"
     ]
    },
    {
     "name": "stdout",
     "output_type": "stream",
     "text": [
      "0.999381752377\n"
     ]
    },
    {
     "data": {
      "text/plain": [
       "[]"
      ]
     },
     "execution_count": 10,
     "metadata": {},
     "output_type": "execute_result"
    },
    {
     "data": {
      "image/png": "[encoded data removed]",
      "text/plain": [
       "<matplotlib.figure.Figure at 0x74f7943fc6d0>"
      ]
     },
     "metadata": {},
     "output_type": "display_data"
    }
   ],
   "source": [
    "%matplotlib inline\n",
    "\n",
    "import pandas\n",
    "import matplotlib.pyplot as plt\n",
    "import numpy as np\n",
    "from scipy.optimize import curve_fit\n",
    "\n",
    "MIN_RANGE=1000\n",
    "MAX_RANGE=8000\n",
    "\n",
    "def exp_fit(x, a, b, c):\n",
    "    return a*np.exp(-b*x) + c\n",
    "\n",
    "def calc_rsquared(residuals, xdata, ydata):\n",
    "    ss_res = residuals.apply(lambda res: res**2).sum()\n",
    "    ss_tot = (ydata-ydata.mean()).apply(lambda diff: diff**2).sum()\n",
    "\n",
    "    r_squared = 1 - (ss_res / ss_tot)   \n",
    "    \n",
    "    return r_squared\n",
    "\n",
    "data = pandas.read_csv('data/lifetime.csv')\n",
    "\n",
    "actual_data = data.loc[(data['Channel'] >= MIN_RANGE) & (data['Channel'] <= MAX_RANGE), ['Channel', 'Counts']]\n",
    "popt, pcov = curve_fit(exp_fit, actual_data['Channel'], actual_data['Counts'], p0=[1, 1e-3, 1])\n",
    "\n",
    "actual_data['Fit'] = actual_data['Channel'].apply(lambda chan: exp_fit(chan, popt[0], popt[1], popt[2]))\n",
    "actual_data['Residuals'] = actual_data['Counts'] - actual_data['Fit']\n",
    "\n",
    "print calc_rsquared(actual_data['Residuals'], actual_data['Channel'], actual_data['Counts'])\n",
    "\n",
    "fig = plt.figure()\n",
    "ax = fig.add_subplot(111, axisbg='w')\n",
    "\n",
    "actual_data.plot(\n",
    "    x='Channel',\n",
    "    y='Counts',\n",
    "    ax=ax\n",
    ")\n",
    "\n",
    "actual_data.plot(\n",
    "    x='Channel',\n",
    "    y='Fit',\n",
    "    ax=ax\n",
    ")\n",
    "fig.set_size_inches(6.40, 5.12)\n",
    "plt.plot()"
   ]
  },
  {
   "cell_type": "code",
   "execution_count": null,
   "metadata": {
    "collapsed": true
   },
   "outputs": [],
   "source": []
  }
 ],
 "metadata": {
  "kernelspec": {
   "display_name": "Python 2",
   "language": "python",
   "name": "python2"
  },
  "language_info": {
   "codemirror_mode": {
    "name": "ipython",
    "version": 2
   },
   "file_extension": ".py",
   "mimetype": "text/x-python",
   "name": "python",
   "nbconvert_exporter": "python",
   "pygments_lexer": "ipython2",
   "version": "2.7.6"
  }
 },
 "nbformat": 4,
 "nbformat_minor": 2
}
