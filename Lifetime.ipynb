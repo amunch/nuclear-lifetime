{
 "cells": [
  {
   "cell_type": "code",
   "execution_count": 31,
   "metadata": {
    "scrolled": false
   },
   "outputs": [
    {
     "data": {
      "application/vnd.jupyter.widget-view+json": {
       "model_id": "0787f0eeced74789878d9804e9d36a03",
       "version_major": 2,
       "version_minor": 0
      },
      "text/plain": [
       "A Jupyter Widget"
      ]
     },
     "metadata": {},
     "output_type": "display_data"
    }
   ],
   "source": [
    "%matplotlib inline\n",
    "\n",
    "from ipywidgets import interact, interactive, fixed, interact_manual\n",
    "import ipywidgets as widgets\n",
    "import pandas\n",
    "import numpy as np\n",
    "\n",
    "import matplotlib.pyplot as plt\n",
    "import analysis\n",
    "reload(analysis)\n",
    "import calibration\n",
    "reload(calibration)\n",
    "\n",
    "NUCLEAR_HALFLIFE = 98.3\n",
    "NUCLEAR_HALFLIFE_ERROR = .3\n",
    "\n",
    "BINS = 100\n",
    "\n",
    "data = pandas.read_csv('data/lifetime_bigger.csv')\n",
    "\n",
    "def run_analysis(MIN_RANGE, MAX_RANGE):\n",
    "    \n",
    "    fitted_data, popt, pcov = analysis.fit_exponent(data, MIN_RANGE, MAX_RANGE)\n",
    "\n",
    "    fig = plt.figure()\n",
    "    ax = fig.add_subplot(211, axisbg='w')\n",
    "\n",
    "    fitted_data.plot(\n",
    "        x='Channel',\n",
    "        y='Counts',\n",
    "        ax=ax\n",
    "    )\n",
    "\n",
    "    fitted_data.plot(\n",
    "        x='Channel',\n",
    "        y='Fit',\n",
    "        ax=ax\n",
    "    )\n",
    "    fig.set_size_inches(10, 12)\n",
    "    \n",
    "    ax = fig.add_subplot(223, axisbg='w')\n",
    "    fitted_data.plot(\n",
    "        x='Channel',\n",
    "        y='Residuals',\n",
    "        ax=ax\n",
    "    )\n",
    "    \n",
    "    ax = fig.add_subplot(224, axisbg='w')\n",
    "    \n",
    "    fitted_data['Residuals'].hist(\n",
    "        ax=ax,\n",
    "        bins=BINS\n",
    "    )\n",
    "    \n",
    "    y, divisions = np.histogram(fitted_data['Residuals'], bins=BINS)\n",
    "    x = []\n",
    "    for i in range(len(divisions) - 1):\n",
    "        x.append((divisions[i] + divisions[i+1])/2)\n",
    "    \n",
    "    gpopt, gpcov = analysis.fit_gaussian(x, y)\n",
    "    \n",
    "    gperrs = np.sqrt(np.diag(gpcov))\n",
    "    \n",
    "    print 'Guassian fit for residuals: gpopt, gperrs\n",
    "\n",
    "    plt.plot()\n",
    "    \n",
    "    rsquared = analysis.calc_rsquared(fitted_data['Residuals'], fitted_data['Channel'], fitted_data['Counts'])\n",
    "    print 'R-squared: {}'.format(rsquared)\n",
    "    \n",
    "    perrs = np.sqrt(np.diag(pcov))\n",
    "#     print 'popt: {}\\nerrors: {}'.format(popt, perrs)\n",
    "    \n",
    "    (m, b), (merr, berr) = calibration.calibrate()\n",
    "#     print 'slope: {} +/- {}'.format(m, merr)\n",
    "#     print 'intercept: {} +/- {}'.format(b, berr)\n",
    "    \n",
    "    total_error = 0;\n",
    "    channel_percent_error = perrs[1]/popt[1]\n",
    "    \n",
    "    fitted_data['Time'] = fitted_data['Channel'].apply(lambda x:m*x + b)\n",
    "    channel_lifetime = 1/popt[1]\n",
    "    channel_error = channel_lifetime * channel_percent_error\n",
    "#     print 'Lifetime: {} +/- {} channels'.format(channel_lifetime, channel_error)\n",
    "    lifetime = m*channel_lifetime + b\n",
    "    lifetime_error = analysis.calc_lifetime_error(m, merr, channel_lifetime, channel_error, b, berr)\n",
    "    print 'Lifetime: {} +/- {} ns'.format(lifetime*1000, lifetime_error*1000)\n",
    "    print 'Literature Lifetime {} +/- {} ns'.format(NUCLEAR_HALFLIFE/np.log(2), NUCLEAR_HALFLIFE_ERROR/np.log(2))\n",
    "    \n",
    "\n",
    "    \n",
    "interact_manual(run_analysis, MIN_RANGE=widgets.IntSlider(min=0,max=8000,step=25,value=1200), MAX_RANGE=widgets.IntSlider(min=1000,max=8000,step=25,value=5000));"
   ]
  },
  {
   "cell_type": "code",
   "execution_count": null,
   "metadata": {
    "collapsed": true
   },
   "outputs": [],
   "source": []
  }
 ],
 "metadata": {
  "kernelspec": {
   "display_name": "Python 2",
   "language": "python",
   "name": "python2"
  },
  "language_info": {
   "codemirror_mode": {
    "name": "ipython",
    "version": 2
   },
   "file_extension": ".py",
   "mimetype": "text/x-python",
   "name": "python",
   "nbconvert_exporter": "python",
   "pygments_lexer": "ipython2",
   "version": "2.7.6"
  }
 },
 "nbformat": 4,
 "nbformat_minor": 2
}
