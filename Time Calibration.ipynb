{
 "cells": [
  {
   "cell_type": "code",
   "execution_count": 24,
   "metadata": {
    "collapsed": true
   },
   "outputs": [],
   "source": [
    "%matplotlib inline\n",
    "\n",
    "from __future__ import print_function\n",
    "\n",
    "import math\n",
    "\n",
    "import pandas as pd\n",
    "import numpy as np\n",
    "import matplotlib.pyplot as plt\n",
    "import statsmodels.formula.api as sm\n",
    "\n",
    "\n",
    "# Fit guassian to 1332 peak\n",
    "from scipy.optimize import curve_fit\n",
    "\n",
    "def gauss_function(x, a, x0, sigma):\n",
    "    return a*np.exp(-(x-x0)**2/(2*sigma**2))\n"
   ]
  },
  {
   "cell_type": "code",
   "execution_count": 25,
   "metadata": {
    "collapsed": false
   },
   "outputs": [],
   "source": [
    "# Find Gaussians\n",
    "intervals = []\n",
    "\n",
    "df = pd.read_csv('data/time.csv')\n",
    "\n",
    "gaussians = []\n",
    "prev = False\n",
    "gaussian = []\n",
    "for index,row in df.iterrows():\n",
    "    if row['Counts'] > 0:\n",
    "        gaussian.append((row['Channel'], row['Counts']))\n",
    "        prev = True\n",
    "        continue\n",
    "    if row['Counts'] == 0 and prev == True:\n",
    "        if len(gaussian) > 1:\n",
    "            gaussians.append(gaussian)\n",
    "        gaussian = []\n",
    "    prev = False     "
   ]
  },
  {
   "cell_type": "code",
   "execution_count": 27,
   "metadata": {
    "collapsed": false
   },
   "outputs": [],
   "source": [
    "def fit_gaussian(data):\n",
    "    print(hi)"
   ]
  },
  {
   "cell_type": "code",
   "execution_count": null,
   "metadata": {
    "collapsed": true
   },
   "outputs": [],
   "source": []
  }
 ],
 "metadata": {
  "kernelspec": {
   "display_name": "Python 2",
   "language": "python",
   "name": "python2"
  },
  "language_info": {
   "codemirror_mode": {
    "name": "ipython",
    "version": 2
   },
   "file_extension": ".py",
   "mimetype": "text/x-python",
   "name": "python",
   "nbconvert_exporter": "python",
   "pygments_lexer": "ipython2",
   "version": "2.7.11"
  }
 },
 "nbformat": 4,
 "nbformat_minor": 2
}
