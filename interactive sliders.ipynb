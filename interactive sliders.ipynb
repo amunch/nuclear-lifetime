{
 "cells": [
  {
   "cell_type": "code",
   "execution_count": 17,
   "metadata": {},
   "outputs": [
    {
     "data": {
      "application/vnd.jupyter.widget-view+json": {
       "model_id": "cdd1fec402c34433bd53903e4e93e9a3",
       "version_major": 2,
       "version_minor": 0
      },
      "text/html": [
       "<p>Failed to display Jupyter Widget of type <code>interactive</code>.</p>\n",
       "<p>\n",
       "  If you're reading this message in Jupyter Notebook or JupyterLab, it may mean\n",
       "  that the widgets JavaScript is still loading. If this message persists, it\n",
       "  likely means that the widgets JavaScript library is either not installed or\n",
       "  not enabled. See the <a href=\"https://ipywidgets.readthedocs.io/en/stable/user_install.html\">Jupyter\n",
       "  Widgets Documentation</a> for setup instructions.\n",
       "</p>\n",
       "<p>\n",
       "  If you're reading this message in another notebook frontend (for example, a static\n",
       "  rendering on GitHub or <a href=\"https://nbviewer.jupyter.org/\">NBViewer</a>),\n",
       "  it may mean that your frontend doesn't currently support widgets.\n",
       "</p>\n"
      ],
      "text/plain": [
       "interactive(children=(FloatSlider(value=1.0, description=u'x', max=3.0, min=-1.0), FloatSlider(value=2.0, description=u'y', max=6.0, min=-2.0), Output()), _dom_classes=('widget-interact',))"
      ]
     },
     "metadata": {},
     "output_type": "display_data"
    }
   ],
   "source": [
    "%matplotlib inline\n",
    "\n",
    "from ipywidgets import interact, interactive, fixed, interact_manual\n",
    "import ipywidgets as widgets\n",
    "\n",
    "\n",
    "# @interact(x=1.0)\n",
    "# def f(x):\n",
    "#     return x\n",
    "\n",
    "@interact(x=1.0, y =2.0)\n",
    "def g(x ,y):    \n",
    "    return(x, y)\n",
    "\n",
    "\n",
    "\n"
   ]
  },
  {
   "cell_type": "code",
   "execution_count": 18,
   "metadata": {},
   "outputs": [
    {
     "data": {
      "application/vnd.jupyter.widget-view+json": {
       "model_id": "11c39f911cbb42a1b2b93127ade7cf94",
       "version_major": 2,
       "version_minor": 0
      },
      "text/html": [
       "<p>Failed to display Jupyter Widget of type <code>interactive</code>.</p>\n",
       "<p>\n",
       "  If you're reading this message in Jupyter Notebook or JupyterLab, it may mean\n",
       "  that the widgets JavaScript is still loading. If this message persists, it\n",
       "  likely means that the widgets JavaScript library is either not installed or\n",
       "  not enabled. See the <a href=\"https://ipywidgets.readthedocs.io/en/stable/user_install.html\">Jupyter\n",
       "  Widgets Documentation</a> for setup instructions.\n",
       "</p>\n",
       "<p>\n",
       "  If you're reading this message in another notebook frontend (for example, a static\n",
       "  rendering on GitHub or <a href=\"https://nbviewer.jupyter.org/\">NBViewer</a>),\n",
       "  it may mean that your frontend doesn't currently support widgets.\n",
       "</p>\n"
      ],
      "text/plain": [
       "interactive(children=(IntSlider(value=10, description=u'x', max=30, min=-10), IntSlider(value=10, description=u'y', max=20), Output()), _dom_classes=('widget-interact',))"
      ]
     },
     "metadata": {},
     "output_type": "display_data"
    }
   ],
   "source": [
    "def k(x, y):\n",
    "    return(x, y)\n",
    "\n"
   ]
  },
  {
   "cell_type": "code",
   "execution_count": 28,
   "metadata": {},
   "outputs": [
    {
     "data": {
      "application/vnd.jupyter.widget-view+json": {
       "model_id": "96d15ee5f44a449193a9c5cd8502b01d",
       "version_major": 2,
       "version_minor": 0
      },
      "text/html": [
       "<p>Failed to display Jupyter Widget of type <code>interactive</code>.</p>\n",
       "<p>\n",
       "  If you're reading this message in Jupyter Notebook or JupyterLab, it may mean\n",
       "  that the widgets JavaScript is still loading. If this message persists, it\n",
       "  likely means that the widgets JavaScript library is either not installed or\n",
       "  not enabled. See the <a href=\"https://ipywidgets.readthedocs.io/en/stable/user_install.html\">Jupyter\n",
       "  Widgets Documentation</a> for setup instructions.\n",
       "</p>\n",
       "<p>\n",
       "  If you're reading this message in another notebook frontend (for example, a static\n",
       "  rendering on GitHub or <a href=\"https://nbviewer.jupyter.org/\">NBViewer</a>),\n",
       "  it may mean that your frontend doesn't currently support widgets.\n",
       "</p>\n"
      ],
      "text/plain": [
       "interactive(children=(IntSlider(value=0, description=u'MIN_RANGE', max=8000, step=25), IntSlider(value=8000, description=u'MAX_RANGE', max=8000, min=1000, step=25), Button(description=u'Run Interact', style=ButtonStyle()), Output()), _dom_classes=('widget-interact',))"
      ]
     },
     "metadata": {},
     "output_type": "display_data"
    }
   ],
   "source": [
    "import pandas\n",
    "import matplotlib.pyplot as plt\n",
    "import numpy as np\n",
    "from scipy.optimize import curve_fit\n",
    "\n",
    "\n",
    "data = pandas.read_csv('data/lifetime.csv')\n",
    "\n",
    "def exp_fit(x, a, b, c):\n",
    "    return a*np.exp(-b*x) + c\n",
    "\n",
    "def calc_rsquared(residuals, xdata, ydata):\n",
    "    ss_res = residuals.apply(lambda res: res**2).sum()\n",
    "    ss_tot = (ydata-ydata.mean()).apply(lambda diff: diff**2).sum()\n",
    "\n",
    "    r_squared = 1 - (ss_res / ss_tot)   \n",
    "    \n",
    "    return r_squared\n",
    "\n",
    "def draw_plot(MIN_RANGE, MAX_RANGE):\n",
    "    print MIN_RANGE\n",
    "    print MAX_RANGE\n",
    "    actual_data = data.loc[(data['Channel'] >= MIN_RANGE) & (data['Channel'] <= MAX_RANGE), ['Channel', 'Counts']]\n",
    "    popt, pcov = curve_fit(exp_fit, actual_data['Channel'], actual_data['Counts'], p0=[1, 1e-3, 1])\n",
    "\n",
    "    actual_data['Fit'] = actual_data['Channel'].apply(lambda chan: exp_fit(chan, popt[0], popt[1], popt[2]))\n",
    "    actual_data['Residuals'] = actual_data['Counts'] - actual_data['Fit']\n",
    "\n",
    "    print calc_rsquared(actual_data['Residuals'], actual_data['Channel'], actual_data['Counts'])\n",
    "\n",
    "    fig = plt.figure()\n",
    "    ax = fig.add_subplot(111, axisbg='w')\n",
    "\n",
    "    actual_data.plot(\n",
    "        x='Channel',\n",
    "        y='Counts',\n",
    "        ax=ax\n",
    "    )\n",
    "\n",
    "    actual_data.plot(\n",
    "        x='Channel',\n",
    "        y='Fit',\n",
    "        ax=ax\n",
    "    )\n",
    "    fig.set_size_inches(6.40, 5.12)\n",
    "    plt.plot()\n",
    "\n",
    "    \n",
    "    \n",
    "interact_manual(draw_plot, MIN_RANGE=widgets.IntSlider(min=0,max=8000,step=25,value=0), MAX_RANGE=widgets.IntSlider(min=1000,max=8000,step=25,value=8000));"
   ]
  },
  {
   "cell_type": "code",
   "execution_count": null,
   "metadata": {},
   "outputs": [],
   "source": []
  },
  {
   "cell_type": "code",
   "execution_count": null,
   "metadata": {},
   "outputs": [],
   "source": []
  }
 ],
 "metadata": {
  "kernelspec": {
   "display_name": "Python 2",
   "language": "python",
   "name": "python2"
  },
  "language_info": {
   "codemirror_mode": {
    "name": "ipython",
    "version": 2
   },
   "file_extension": ".py",
   "mimetype": "text/x-python",
   "name": "python",
   "nbconvert_exporter": "python",
   "pygments_lexer": "ipython2",
   "version": "2.7.13"
  }
 },
 "nbformat": 4,
 "nbformat_minor": 2
}
